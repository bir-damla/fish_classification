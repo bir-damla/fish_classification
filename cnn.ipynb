{
  "cells": [
    {
      "cell_type": "code",
      "execution_count": null,
      "metadata": {
        "id": "8Hdk2_RUjpzE"
      },
      "outputs": [],
      "source": [
        "import cv2\n",
        "from keras.models import Sequential\n",
        "from keras.layers import Conv2D, MaxPooling2D, Dense, Dropout, Flatten\n",
        "from keras.optimizers import Adam\n",
        "from keras.preprocessing.image import ImageDataGenerator\n",
        "import os\n",
        "from tensorflow.keras.callbacks import EarlyStopping"
      ]
    },
    {
      "cell_type": "code",
      "execution_count": null,
      "metadata": {
        "colab": {
          "base_uri": "https://localhost:8080/"
        },
        "id": "bFzgQjoikfYW",
        "outputId": "ebcb3760-3824-430d-eff4-08426d5e1e11"
      },
      "outputs": [
        {
          "output_type": "stream",
          "name": "stdout",
          "text": [
            "Drive already mounted at /content/drive; to attempt to forcibly remount, call drive.mount(\"/content/drive\", force_remount=True).\n"
          ]
        }
      ],
      "source": [
        "from google.colab import drive\n",
        "drive.mount('/content/drive')"
      ]
    },
    {
      "cell_type": "code",
      "execution_count": null,
      "metadata": {
        "colab": {
          "base_uri": "https://localhost:8080/"
        },
        "id": "G9BTq1b9jqbs",
        "outputId": "30b14254-5ba9-4945-8aa2-4375e5fb3c33"
      },
      "outputs": [
        {
          "output_type": "stream",
          "name": "stdout",
          "text": [
            "Found 18076 images belonging to 9 classes.\n",
            "Found 18076 images belonging to 9 classes.\n"
          ]
        },
        {
          "output_type": "stream",
          "name": "stderr",
          "text": [
            "WARNING:absl:`lr` is deprecated in Keras optimizer, please use `learning_rate` or use the legacy optimizer, e.g.,tf.keras.optimizers.legacy.Adam.\n"
          ]
        }
      ],
      "source": [
        "# Initialize image data generator with rescaling\n",
        "train_data_gen = ImageDataGenerator(rescale=1./255)\n",
        "validation_data_gen = ImageDataGenerator(rescale=1./255)\n",
        "# Preprocess all test images\n",
        "train_generator = train_data_gen.flow_from_directory(\n",
        "        \"/content/drive/My Drive/dataset/kaggle_big_data_set/Fish_Dataset\",\n",
        "        target_size=(48, 48),\n",
        "        batch_size=64,\n",
        "        color_mode=\"rgb\",\n",
        "        class_mode='categorical')\n",
        "\n",
        "# Preprocess all train images\n",
        "validation_generator = validation_data_gen.flow_from_directory(\n",
        "        \"/content/drive/My Drive/dataset/kaggle_big_data_set/Fish_Dataset\",\n",
        "        target_size=(48, 48),\n",
        "        batch_size=64,\n",
        "        color_mode=\"rgb\",\n",
        "        class_mode='categorical')\n",
        "\n",
        "#create model structure\n",
        "fish_model = Sequential()\n",
        "\n",
        "fish_model.add(Conv2D(32, kernel_size=(3, 3), activation='relu', input_shape=(48, 48, 3)))\n",
        "fish_model.add(Conv2D(64, kernel_size=(3, 3), activation='relu'))\n",
        "fish_model.add(MaxPooling2D(pool_size=(2, 2)))\n",
        "fish_model.add(Dropout(0.25))\n",
        "\n",
        "fish_model.add(Conv2D(128, kernel_size=(3, 3), activation='relu'))\n",
        "fish_model.add(MaxPooling2D(pool_size=(2, 2)))\n",
        "fish_model.add(Conv2D(128, kernel_size=(3, 3), activation='relu'))\n",
        "fish_model.add(MaxPooling2D(pool_size=(2, 2)))\n",
        "fish_model.add(Dropout(0.25))\n",
        "\n",
        "fish_model.add(Flatten())\n",
        "fish_model.add(Dense(1024, activation='relu'))\n",
        "fish_model.add(Dropout(0.5))\n",
        "fish_model.add(Dense(9, activation='softmax'))\n",
        "\n",
        "cv2.ocl.setUseOpenCL(False)\n",
        "\n",
        "fish_model.compile(loss='categorical_crossentropy', optimizer=Adam(lr=0.0001), metrics=['accuracy'])\n",
        "\n",
        "#early_stop = EarlyStopping(monitor='val_loss',patience=1)"
      ]
    },
    {
      "cell_type": "code",
      "execution_count": null,
      "metadata": {
        "colab": {
          "base_uri": "https://localhost:8080/"
        },
        "id": "Gfjt-mujkB_t",
        "outputId": "86560439-cfeb-4bca-ea58-e447ae87ce5b"
      },
      "outputs": [
        {
          "output_type": "stream",
          "name": "stdout",
          "text": [
            "Epoch 1/30\n",
            "282/282 [==============================] - 4256s 15s/step - loss: 1.4108 - accuracy: 0.4542 - val_loss: 0.9568 - val_accuracy: 0.6641\n",
            "Epoch 2/30\n",
            "282/282 [==============================] - 390s 1s/step - loss: 0.8892 - accuracy: 0.6632 - val_loss: 0.5491 - val_accuracy: 0.7995\n",
            "Epoch 3/30\n",
            "282/282 [==============================] - 371s 1s/step - loss: 0.7034 - accuracy: 0.7303 - val_loss: 0.6035 - val_accuracy: 0.7734\n",
            "Epoch 4/30\n",
            "282/282 [==============================] - 375s 1s/step - loss: 0.5784 - accuracy: 0.7860 - val_loss: 0.4120 - val_accuracy: 0.8385\n",
            "Epoch 5/30\n",
            "282/282 [==============================] - 368s 1s/step - loss: 0.4978 - accuracy: 0.8100 - val_loss: 0.2189 - val_accuracy: 0.9219\n",
            "Epoch 6/30\n",
            "282/282 [==============================] - 371s 1s/step - loss: 0.4367 - accuracy: 0.8354 - val_loss: 0.3021 - val_accuracy: 0.8828\n",
            "Epoch 7/30\n",
            "282/282 [==============================] - 368s 1s/step - loss: 0.3919 - accuracy: 0.8544 - val_loss: 0.2378 - val_accuracy: 0.9245\n",
            "Epoch 8/30\n",
            "282/282 [==============================] - 359s 1s/step - loss: 0.3447 - accuracy: 0.8743 - val_loss: 0.2536 - val_accuracy: 0.8932\n",
            "Epoch 9/30\n",
            "282/282 [==============================] - 374s 1s/step - loss: 0.3215 - accuracy: 0.8791 - val_loss: 0.1598 - val_accuracy: 0.9505\n",
            "Epoch 10/30\n",
            "282/282 [==============================] - 359s 1s/step - loss: 0.2906 - accuracy: 0.8923 - val_loss: 0.1499 - val_accuracy: 0.9479\n",
            "Epoch 11/30\n",
            "282/282 [==============================] - 358s 1s/step - loss: 0.2773 - accuracy: 0.8967 - val_loss: 0.1263 - val_accuracy: 0.9635\n",
            "Epoch 12/30\n",
            "282/282 [==============================] - 366s 1s/step - loss: 0.2452 - accuracy: 0.9063 - val_loss: 0.1152 - val_accuracy: 0.9583\n",
            "Epoch 13/30\n",
            "282/282 [==============================] - 376s 1s/step - loss: 0.2305 - accuracy: 0.9146 - val_loss: 0.1132 - val_accuracy: 0.9661\n",
            "Epoch 14/30\n",
            "282/282 [==============================] - 382s 1s/step - loss: 0.2181 - accuracy: 0.9207 - val_loss: 0.1080 - val_accuracy: 0.9635\n",
            "Epoch 15/30\n",
            "282/282 [==============================] - 370s 1s/step - loss: 0.2021 - accuracy: 0.9262 - val_loss: 0.1171 - val_accuracy: 0.9609\n",
            "Epoch 16/30\n",
            "282/282 [==============================] - 358s 1s/step - loss: 0.2012 - accuracy: 0.9258 - val_loss: 0.1460 - val_accuracy: 0.9557\n",
            "Epoch 17/30\n",
            "282/282 [==============================] - 370s 1s/step - loss: 0.1860 - accuracy: 0.9308 - val_loss: 0.0710 - val_accuracy: 0.9740\n",
            "Epoch 18/30\n",
            "282/282 [==============================] - 368s 1s/step - loss: 0.1749 - accuracy: 0.9364 - val_loss: 0.0435 - val_accuracy: 0.9896\n",
            "Epoch 19/30\n",
            "282/282 [==============================] - 373s 1s/step - loss: 0.1500 - accuracy: 0.9464 - val_loss: 0.0646 - val_accuracy: 0.9818\n",
            "Epoch 20/30\n",
            "282/282 [==============================] - 365s 1s/step - loss: 0.1506 - accuracy: 0.9450 - val_loss: 0.0449 - val_accuracy: 0.9844\n",
            "Epoch 21/30\n",
            "282/282 [==============================] - 360s 1s/step - loss: 0.1423 - accuracy: 0.9483 - val_loss: 0.0492 - val_accuracy: 0.9844\n",
            "Epoch 22/30\n",
            "282/282 [==============================] - 367s 1s/step - loss: 0.1378 - accuracy: 0.9500 - val_loss: 0.0225 - val_accuracy: 0.9974\n",
            "Epoch 23/30\n",
            "282/282 [==============================] - 368s 1s/step - loss: 0.1359 - accuracy: 0.9504 - val_loss: 0.0355 - val_accuracy: 0.9896\n",
            "Epoch 24/30\n",
            "282/282 [==============================] - 357s 1s/step - loss: 0.1220 - accuracy: 0.9556 - val_loss: 0.0258 - val_accuracy: 0.9948\n",
            "Epoch 25/30\n",
            "282/282 [==============================] - 369s 1s/step - loss: 0.1346 - accuracy: 0.9521 - val_loss: 0.0170 - val_accuracy: 0.9974\n",
            "Epoch 26/30\n",
            "282/282 [==============================] - 359s 1s/step - loss: 0.1170 - accuracy: 0.9573 - val_loss: 0.0250 - val_accuracy: 0.9922\n",
            "Epoch 27/30\n",
            "282/282 [==============================] - 364s 1s/step - loss: 0.1264 - accuracy: 0.9545 - val_loss: 0.0210 - val_accuracy: 0.9948\n",
            "Epoch 28/30\n",
            "282/282 [==============================] - 362s 1s/step - loss: 0.1215 - accuracy: 0.9588 - val_loss: 0.0674 - val_accuracy: 0.9844\n",
            "Epoch 29/30\n",
            "282/282 [==============================] - 363s 1s/step - loss: 0.1133 - accuracy: 0.9605 - val_loss: 0.0141 - val_accuracy: 1.0000\n",
            "Epoch 30/30\n",
            "282/282 [==============================] - 363s 1s/step - loss: 0.1046 - accuracy: 0.9626 - val_loss: 0.0180 - val_accuracy: 0.9974\n"
          ]
        }
      ],
      "source": [
        "fish_model_info = fish_model.fit(\n",
        "        train_generator,\n",
        "        steps_per_epoch=18076 // 64,\n",
        "        epochs=30,\n",
        "        validation_data=validation_generator,\n",
        "        validation_steps=430 // 64,\n",
        "        #callbacks=[early_stop]\n",
        "        )\n"
      ]
    },
    {
      "cell_type": "code",
      "execution_count": null,
      "metadata": {
        "id": "lej7EJAhmEqN"
      },
      "outputs": [],
      "source": [
        "# save model structure in jason file\n",
        "model_json = fish_model.to_json()\n",
        "with open(\"fish_model.json\", \"w\") as json_file:\n",
        "    json_file.write(model_json)\n",
        "\n",
        "# save trained model weight in .h5 file\n",
        "fish_model.save_weights('fish_model.h5')"
      ]
    },
    {
      "cell_type": "markdown",
      "metadata": {
        "id": "nG-5-3wAMDhd"
      },
      "source": [
        "# test verileri\n"
      ]
    },
    {
      "cell_type": "code",
      "execution_count": null,
      "metadata": {
        "id": "BGKqGPLjMCyB"
      },
      "outputs": [],
      "source": [
        "import os\n",
        "import numpy as np\n",
        "from keras.models import model_from_json\n",
        "from keras.preprocessing import image\n",
        "from keras.optimizers import Adam\n",
        "from sklearn.preprocessing import LabelEncoder\n",
        "from keras.utils import to_categorical"
      ]
    },
    {
      "cell_type": "code",
      "source": [
        "from google.colab import drive\n",
        "drive.mount('/content/drive')"
      ],
      "metadata": {
        "colab": {
          "base_uri": "https://localhost:8080/"
        },
        "id": "1skDiNSpK96i",
        "outputId": "e14c4c8d-285f-4c07-bfca-b58399e2f0ce"
      },
      "execution_count": null,
      "outputs": [
        {
          "output_type": "stream",
          "name": "stdout",
          "text": [
            "Drive already mounted at /content/drive; to attempt to forcibly remount, call drive.mount(\"/content/drive\", force_remount=True).\n"
          ]
        }
      ]
    },
    {
      "cell_type": "code",
      "execution_count": null,
      "metadata": {
        "colab": {
          "base_uri": "https://localhost:8080/"
        },
        "id": "k5nL4w0pMQj6",
        "outputId": "8d4073af-2f35-4fe5-cf9b-e7ddb5dca7e1"
      },
      "outputs": [
        {
          "output_type": "stream",
          "name": "stdout",
          "text": [
            "Processed 439 images.\n"
          ]
        }
      ],
      "source": [
        "test_data_dir = \"/content/drive/My Drive/dataset/kaggle_big_data_set/NA_Fish_Dataset\"\n",
        "\n",
        "test_images = []\n",
        "test_labels = []\n",
        "\n",
        "for root, dirs, files in os.walk(test_data_dir):\n",
        "    for filename in files:\n",
        "        if filename.lower().endswith((\".jpg\", \".png\")):\n",
        "            img_path = os.path.join(root, filename)\n",
        "            img = image.load_img(img_path, target_size=(48, 48), color_mode=\"rgb\")\n",
        "            img_array = image.img_to_array(img)\n",
        "            img_array = np.expand_dims(img_array, axis=0)\n",
        "            img_array = img_array / 255.0\n",
        "            test_images.append(img_array)\n",
        "\n",
        "            label = os.path.basename(root)\n",
        "            test_labels.append(label)\n",
        "if len(test_images) == 0:\n",
        "    print(\"No images were processed.\")\n",
        "else:\n",
        "    print(f\"Processed {len(test_images)} images.\")"
      ]
    },
    {
      "cell_type": "code",
      "source": [
        "test_images = np.vstack(test_images)\n",
        "test_labels = np.array(test_labels)\n",
        "\n",
        "print(\"Test veri seti boyutu:\", test_images.shape)\n",
        "print(\"Test etiketleri boyutu:\", test_labels.shape)\n",
        "\n",
        "label_encoder = LabelEncoder()\n",
        "test_labels_encoded = label_encoder.fit_transform(test_labels)\n",
        "\n",
        "num_classes = max(test_labels_encoded) + 1\n",
        "\n",
        "test_labels_onehot = to_categorical(test_labels_encoded, num_classes=num_classes)\n",
        "print(test_labels_onehot)\n",
        "\n",
        "print(f\"Number of classes: {num_classes}\")\n",
        "print(f\"Classes: {label_encoder.classes_}\")"
      ],
      "metadata": {
        "colab": {
          "base_uri": "https://localhost:8080/"
        },
        "id": "HhdgX26aKlzv",
        "outputId": "9e229874-d750-47bd-a3a9-5d25f4d839ac"
      },
      "execution_count": null,
      "outputs": [
        {
          "output_type": "stream",
          "name": "stdout",
          "text": [
            "Test veri seti boyutu: (439, 48, 48, 3)\n",
            "Test etiketleri boyutu: (439,)\n",
            "[[0. 0. 0. ... 0. 0. 0.]\n",
            " [0. 0. 0. ... 0. 0. 0.]\n",
            " [0. 0. 0. ... 0. 0. 0.]\n",
            " ...\n",
            " [0. 0. 0. ... 1. 0. 0.]\n",
            " [0. 0. 0. ... 1. 0. 0.]\n",
            " [0. 0. 0. ... 1. 0. 0.]]\n",
            "Number of classes: 9\n",
            "Classes: ['Black Sea Sprat' 'Gilt Head Bream' 'Horse Mackerel' 'Red Mullet'\n",
            " 'Red Sea Bream' 'Sea Bass' 'Shrimp' 'Striped Red Mullet' 'Trout']\n"
          ]
        }
      ]
    },
    {
      "cell_type": "code",
      "source": [
        "json_file = open('/content/fish_model.json', 'r')\n",
        "loaded_model_json = json_file.read()\n",
        "json_file.close()"
      ],
      "metadata": {
        "id": "Wa4AO37i4ZdF"
      },
      "execution_count": null,
      "outputs": []
    },
    {
      "cell_type": "code",
      "source": [
        "fish_model = model_from_json(loaded_model_json)\n",
        "fish_model.load_weights('/content/fish_model.h5')\n",
        "print(\"Model diskten yüklendi.\")"
      ],
      "metadata": {
        "colab": {
          "base_uri": "https://localhost:8080/"
        },
        "id": "vaceM3Y44ZRP",
        "outputId": "3b658942-77f4-4005-c654-c1e1586dc3d3"
      },
      "execution_count": null,
      "outputs": [
        {
          "output_type": "stream",
          "name": "stdout",
          "text": [
            "Model diskten yüklendi.\n"
          ]
        }
      ]
    },
    {
      "cell_type": "code",
      "source": [
        "fish_model.compile(loss='categorical_crossentropy', optimizer=Adam(learning_rate=0.0001), metrics=['accuracy'])"
      ],
      "metadata": {
        "id": "bZka4R9v4ZEd"
      },
      "execution_count": null,
      "outputs": []
    },
    {
      "cell_type": "code",
      "source": [
        "loss, accuracy = fish_model.evaluate(test_images, test_labels_onehot, verbose=1)\n",
        "\n",
        "print(f\"Test Loss: {loss:.4f}\")\n",
        "print(f\"Test Accuracy: {accuracy * 100:.2f}%\")"
      ],
      "metadata": {
        "colab": {
          "base_uri": "https://localhost:8080/"
        },
        "id": "CuMe0jgJ4lMZ",
        "outputId": "a89fb171-61b0-468b-cc2e-2bf6cfd15bca"
      },
      "execution_count": null,
      "outputs": [
        {
          "output_type": "stream",
          "name": "stdout",
          "text": [
            "14/14 [==============================] - 2s 93ms/step - loss: 1.5093 - accuracy: 0.7403\n",
            "Test Loss: 1.5093\n",
            "Test Accuracy: 74.03%\n"
          ]
        }
      ]
    }
  ],
  "metadata": {
    "colab": {
      "provenance": []
    },
    "kernelspec": {
      "display_name": "Python 3",
      "name": "python3"
    },
    "language_info": {
      "name": "python"
    }
  },
  "nbformat": 4,
  "nbformat_minor": 0
}